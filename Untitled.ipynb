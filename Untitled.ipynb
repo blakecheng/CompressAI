{
 "cells": [
  {
   "cell_type": "code",
   "execution_count": 20,
   "metadata": {},
   "outputs": [],
   "source": [
    "# import json\n",
    "# %matplotlib inline \n",
    "# import matplotlib.pyplot as plt\n",
    "# from functools import reduce\n",
    "\n",
    "# data_list = []\n",
    "# for i in range(7):\n",
    "#     data_path = \"examples/benchmarks/jpeg/40-%d_jpeg.json\"%(i)\n",
    "#     with open(data_path, 'r') as f:\n",
    "#         data = json.load(f)\n",
    "#     data_list.append(data)\n",
    "    \n",
    "# def add(x,y): return np.array(x) + np.array(y)\n",
    "\n",
    "# PSNR_MEAN = reduce(add,[data['results']['psnr'] for data in data_list])/len(data_list)\n",
    "# print(PSNR_MEAN)\n",
    "# BPP_MEAN = reduce(add,[data['results']['bpp'] for data in data_list])/len(data_list)\n",
    "# print(BPP_MEAN)\n",
    "# import numpy as np\n",
    "# np.save(\"jpeg_result40.npy\",np.array([BPP_MEAN,PSNR_MEAN]))"
   ]
  },
  {
   "cell_type": "code",
   "execution_count": 1,
   "metadata": {},
   "outputs": [],
   "source": [
    "import json\n",
    "%matplotlib inline \n",
    "import matplotlib.pyplot as plt\n",
    "from functools import reduce"
   ]
  },
  {
   "cell_type": "code",
   "execution_count": 5,
   "metadata": {},
   "outputs": [],
   "source": [
    "# data_path = \"examples/benchmarks/jpeg/40-all_jpeg.json\"\n",
    "# with open(data_path, 'r') as f:\n",
    "#     data = json.load(f)\n",
    "    \n",
    "# PSNR = data['results']['psnr']\n",
    "# bpp = data['results']['bpp']\n",
    "\n",
    "# import numpy as np\n",
    "# np.save(\"jpeg_result40.npy\",np.array([bpp,PSNR]))"
   ]
  },
  {
   "cell_type": "code",
   "execution_count": 30,
   "metadata": {},
   "outputs": [],
   "source": [
    "data_path = \"examples/benchmarks/jpeg/kodak_jpeg.json\"\n",
    "with open(data_path, 'r') as f:\n",
    "    data = json.load(f)\n",
    "    \n",
    "PSNR = data['results']['psnr']\n",
    "bpp = data['results']['bpp']\n",
    "\n",
    "import numpy as np\n",
    "np.save(\"jpeg_kodak.npy\",np.array([bpp,PSNR]))"
   ]
  },
  {
   "cell_type": "code",
   "execution_count": 7,
   "metadata": {},
   "outputs": [],
   "source": [
    "# data_path = \"examples/benchmarks/bpg/40-all_bpg_444_x265_ycbcr.json\"\n",
    "# with open(data_path, 'r') as f:\n",
    "#     data = json.load(f)\n",
    "    \n",
    "# PSNR = data['results']['psnr']\n",
    "# bpp = data['results']['bpp']\n",
    "\n",
    "# import numpy as np\n",
    "# np.save(\"bpg_result40.npy\",np.array([bpp,PSNR]))"
   ]
  },
  {
   "cell_type": "code",
   "execution_count": 31,
   "metadata": {},
   "outputs": [],
   "source": [
    "data_path = \"examples/benchmarks/bpg/kodak_bpg_444_x265_ycbcr.json\"\n",
    "with open(data_path, 'r') as f:\n",
    "    data = json.load(f)\n",
    "    \n",
    "PSNR = data['results']['psnr']\n",
    "bpp = data['results']['bpp']\n",
    "\n",
    "import numpy as np\n",
    "np.save(\"bpg_kodak.npy\",np.array([bpp,PSNR]))"
   ]
  },
  {
   "cell_type": "code",
   "execution_count": 6,
   "metadata": {},
   "outputs": [],
   "source": [
    "# data_list = []\n",
    "# for i in range(7):\n",
    "#     data_path = \"examples/benchmarks/bgp/40-%d_bpg_444_x265_ycbcr.json\"%(i)\n",
    "#     with open(data_path, 'r') as f:\n",
    "#         data = json.load(f)\n",
    "#     data_list.append(data)\n",
    "    \n",
    "# def add(x,y): return np.array(x) + np.array(y)\n",
    "\n",
    "# PSNR_MEAN = reduce(add,[data['results']['psnr'] for data in data_list])/len(data_list)\n",
    "# print(PSNR_MEAN)\n",
    "# BPP_MEAN = reduce(add,[data['results']['bpp'] for data in data_list])/len(data_list)\n",
    "# print(BPP_MEAN)\n",
    "# import numpy as np\n",
    "# np.save(\"bgp_result40.npy\",np.array([BPP_MEAN,PSNR_MEAN]))"
   ]
  },
  {
   "cell_type": "code",
   "execution_count": 37,
   "metadata": {},
   "outputs": [],
   "source": [
    "hific = np.load(\"/home/chengbin/shengqiangcode/high-fidelity-generative-compression/hific_kodak.npy\")\n",
    "bgp = np.load(\"bpg_kodak.npy\")\n",
    "jpeg = np.load(\"jpeg_kodak.npy\")\n",
    "# hific_retrain100000 = np.load(\"/home/chengbin/shengqiangcode/high-fidelity-generative-compression/low_retrain_10000.npy\")\n",
    "# hific_retrain149000 = np.load(\"/home/chengbin/shengqiangcode/high-fidelity-generative-compression/low_retrain_14900.npy\")\n",
    "# hific = np.load(\"/home/chengbin/shengqiangcode/high-fidelity-generative-compression/result20.npy\")\n",
    "# bgp = np.load(\"bgp_result20.npy\")\n",
    "# jpeg = np.load(\"jpeg_result20.npy\")"
   ]
  },
  {
   "cell_type": "code",
   "execution_count": null,
   "metadata": {},
   "outputs": [],
   "source": []
  },
  {
   "cell_type": "code",
   "execution_count": 39,
   "metadata": {},
   "outputs": [
    {
     "data": {
      "text/plain": [
       "<matplotlib.legend.Legend at 0x7fcef12ba128>"
      ]
     },
     "execution_count": 39,
     "metadata": {},
     "output_type": "execute_result"
    },
    {
     "data": {
      "image/png": "[encoded data removed]",
      "text/plain": [
       "<Figure size 720x720 with 1 Axes>"
      ]
     },
     "metadata": {
      "needs_background": "light"
     },
     "output_type": "display_data"
    }
   ],
   "source": [
    "# plt.scatter(bpp_mean,psnr_mean,marker='v',s=80,label=model+\"_mean\",c=c_list[i],edgecolor=\"black\")\n",
    "name = \"kodak\"\n",
    "plt.figure(figsize=(10,10))\n",
    "plt.plot(hific[0],hific[1],marker='v',label=\"hific-pretrain\")\n",
    "plt.plot(bgp[0],bgp[1],marker='v',label=\"bgp\")\n",
    "plt.plot(jpeg[0],jpeg[1],marker='v',label=\"jpeg\")\n",
    "# plt.scatter(hific_retrain100000[0],hific_retrain100000[1],s=80,c=\"yellow\",edgecolor=\"black\",marker='v',label=\"hific_retrain100000\")\n",
    "# plt.scatter(hific_retrain149000[0],hific_retrain149000[1],s=80,c=\"red\",edgecolor=\"black\",marker='v',label=\"hific_retrain149000\")\n",
    "\n",
    "plt.xlabel('bpp')\n",
    "plt.ylabel('PSNR')\n",
    "plt.title(name)\n",
    "plt.legend()\n",
    "# plt.savefig(name+\".jpg\")"
   ]
  },
  {
   "cell_type": "code",
   "execution_count": 10,
   "metadata": {},
   "outputs": [
    {
     "data": {
      "text/plain": [
       "array([[ 0.06000517,  0.12501675],\n",
       "       [36.087467  , 38.50021   ]], dtype=float32)"
      ]
     },
     "execution_count": 10,
     "metadata": {},
     "output_type": "execute_result"
    }
   ],
   "source": [
    "hific"
   ]
  },
  {
   "cell_type": "code",
   "execution_count": 87,
   "metadata": {},
   "outputs": [
    {
     "data": {
      "text/plain": [
       "array([0.05072131, 0.12370619, 0.16751163])"
      ]
     },
     "execution_count": 87,
     "metadata": {},
     "output_type": "execute_result"
    }
   ],
   "source": [
    "hific[0]"
   ]
  },
  {
   "cell_type": "code",
   "execution_count": 88,
   "metadata": {},
   "outputs": [
    {
     "data": {
      "text/plain": [
       "<matplotlib.legend.Legend at 0x7f668d1834a8>"
      ]
     },
     "execution_count": 88,
     "metadata": {},
     "output_type": "execute_result"
    },
    {
     "data": {
      "image/png": "[encoded data removed]",
      "text/plain": [
       "<Figure size 432x288 with 1 Axes>"
      ]
     },
     "metadata": {
      "needs_background": "light"
     },
     "output_type": "display_data"
    }
   ],
   "source": [
    "# plt.scatter(bpp_mean,psnr_mean,marker='v',s=80,label=model+\"_mean\",c=c_list[i],edgecolor=\"black\")\n",
    "plt.plot(hific[0],hific[1],marker='v',label=\"hific\")\n",
    "plt.plot(bgp[0],bgp[1],marker='v',label=\"bgp\")\n",
    "plt.plot(jpeg[0],jpeg[1],marker='v',label=\"jpeg\")\n",
    "plt.xlabel('bpp')\n",
    "plt.ylabel('PSNR')\n",
    "# plt.title(name)\n",
    "plt.legend()\n",
    "# plt.savefig(name+\".jpg\")"
   ]
  },
  {
   "cell_type": "code",
   "execution_count": 89,
   "metadata": {},
   "outputs": [
    {
     "data": {
      "text/plain": [
       "<Figure size 432x288 with 0 Axes>"
      ]
     },
     "metadata": {},
     "output_type": "display_data"
    }
   ],
   "source": [
    "plt.savefig(\"test_all40_jpeg!.jpg\")"
   ]
  },
  {
   "cell_type": "code",
   "execution_count": 40,
   "metadata": {},
   "outputs": [
    {
     "data": {
      "text/html": [
       "<div>\n",
       "<style scoped>\n",
       "    .dataframe tbody tr th:only-of-type {\n",
       "        vertical-align: middle;\n",
       "    }\n",
       "\n",
       "    .dataframe tbody tr th {\n",
       "        vertical-align: top;\n",
       "    }\n",
       "\n",
       "    .dataframe thead th {\n",
       "        text-align: right;\n",
       "    }\n",
       "</style>\n",
       "<table border=\"1\" class=\"dataframe\">\n",
       "  <thead>\n",
       "    <tr style=\"text-align: right;\">\n",
       "      <th></th>\n",
       "      <th>0</th>\n",
       "      <th>1</th>\n",
       "      <th>2</th>\n",
       "      <th>3</th>\n",
       "      <th>4</th>\n",
       "      <th>5</th>\n",
       "      <th>6</th>\n",
       "      <th>7</th>\n",
       "      <th>8</th>\n",
       "      <th>9</th>\n",
       "      <th>10</th>\n",
       "      <th>11</th>\n",
       "      <th>12</th>\n",
       "      <th>13</th>\n",
       "      <th>14</th>\n",
       "      <th>15</th>\n",
       "      <th>16</th>\n",
       "      <th>17</th>\n",
       "      <th>18</th>\n",
       "    </tr>\n",
       "  </thead>\n",
       "  <tbody>\n",
       "    <tr>\n",
       "      <th>psnr</th>\n",
       "      <td>27.293149</td>\n",
       "      <td>30.864734</td>\n",
       "      <td>32.832301</td>\n",
       "      <td>34.123399</td>\n",
       "      <td>34.908997</td>\n",
       "      <td>36.303674</td>\n",
       "      <td>37.025123</td>\n",
       "      <td>37.405297</td>\n",
       "      <td>37.636034</td>\n",
       "      <td>37.908236</td>\n",
       "      <td>39.491736</td>\n",
       "      <td>41.292638</td>\n",
       "      <td>43.018577</td>\n",
       "      <td>46.225878</td>\n",
       "      <td>inf</td>\n",
       "      <td>47.387928</td>\n",
       "      <td>48.827614</td>\n",
       "      <td>50.571082</td>\n",
       "      <td>54.206662</td>\n",
       "    </tr>\n",
       "    <tr>\n",
       "      <th>ms-ssim</th>\n",
       "      <td>0.832348</td>\n",
       "      <td>0.909503</td>\n",
       "      <td>0.939561</td>\n",
       "      <td>0.953286</td>\n",
       "      <td>0.958532</td>\n",
       "      <td>0.969335</td>\n",
       "      <td>0.973872</td>\n",
       "      <td>0.976142</td>\n",
       "      <td>0.977833</td>\n",
       "      <td>0.979375</td>\n",
       "      <td>0.985939</td>\n",
       "      <td>0.990412</td>\n",
       "      <td>0.993433</td>\n",
       "      <td>0.997198</td>\n",
       "      <td>0.999999</td>\n",
       "      <td>0.997905</td>\n",
       "      <td>0.998707</td>\n",
       "      <td>0.999215</td>\n",
       "      <td>0.999704</td>\n",
       "    </tr>\n",
       "    <tr>\n",
       "      <th>bpp</th>\n",
       "      <td>0.170720</td>\n",
       "      <td>0.227577</td>\n",
       "      <td>0.269554</td>\n",
       "      <td>0.318454</td>\n",
       "      <td>0.383570</td>\n",
       "      <td>0.415940</td>\n",
       "      <td>0.427247</td>\n",
       "      <td>0.442205</td>\n",
       "      <td>0.482336</td>\n",
       "      <td>0.665517</td>\n",
       "      <td>0.738271</td>\n",
       "      <td>0.749831</td>\n",
       "      <td>0.774988</td>\n",
       "      <td>0.806432</td>\n",
       "      <td>0.829433</td>\n",
       "      <td>0.875817</td>\n",
       "      <td>1.064493</td>\n",
       "      <td>1.173561</td>\n",
       "      <td>1.548504</td>\n",
       "    </tr>\n",
       "    <tr>\n",
       "      <th>encoding_time</th>\n",
       "      <td>0.266728</td>\n",
       "      <td>0.286760</td>\n",
       "      <td>0.287699</td>\n",
       "      <td>0.307367</td>\n",
       "      <td>0.304675</td>\n",
       "      <td>0.293596</td>\n",
       "      <td>0.311106</td>\n",
       "      <td>0.329001</td>\n",
       "      <td>0.351795</td>\n",
       "      <td>0.355850</td>\n",
       "      <td>0.327504</td>\n",
       "      <td>0.344542</td>\n",
       "      <td>0.350562</td>\n",
       "      <td>0.362998</td>\n",
       "      <td>0.360625</td>\n",
       "      <td>0.357106</td>\n",
       "      <td>0.352720</td>\n",
       "      <td>0.329110</td>\n",
       "      <td>0.332860</td>\n",
       "    </tr>\n",
       "    <tr>\n",
       "      <th>decoding_time</th>\n",
       "      <td>0.123576</td>\n",
       "      <td>0.129913</td>\n",
       "      <td>0.131389</td>\n",
       "      <td>0.146290</td>\n",
       "      <td>0.150518</td>\n",
       "      <td>0.145373</td>\n",
       "      <td>0.149436</td>\n",
       "      <td>0.153600</td>\n",
       "      <td>0.160495</td>\n",
       "      <td>0.166311</td>\n",
       "      <td>0.145613</td>\n",
       "      <td>0.153275</td>\n",
       "      <td>0.158650</td>\n",
       "      <td>0.171187</td>\n",
       "      <td>0.160829</td>\n",
       "      <td>0.164674</td>\n",
       "      <td>0.166458</td>\n",
       "      <td>0.151724</td>\n",
       "      <td>0.164918</td>\n",
       "    </tr>\n",
       "  </tbody>\n",
       "</table>\n",
       "</div>"
      ],
      "text/plain": [
       "                      0          1          2          3          4   \\\n",
       "psnr           27.293149  30.864734  32.832301  34.123399  34.908997   \n",
       "ms-ssim         0.832348   0.909503   0.939561   0.953286   0.958532   \n",
       "bpp             0.170720   0.227577   0.269554   0.318454   0.383570   \n",
       "encoding_time   0.266728   0.286760   0.287699   0.307367   0.304675   \n",
       "decoding_time   0.123576   0.129913   0.131389   0.146290   0.150518   \n",
       "\n",
       "                      5          6          7          8          9   \\\n",
       "psnr           36.303674  37.025123  37.405297  37.636034  37.908236   \n",
       "ms-ssim         0.969335   0.973872   0.976142   0.977833   0.979375   \n",
       "bpp             0.415940   0.427247   0.442205   0.482336   0.665517   \n",
       "encoding_time   0.293596   0.311106   0.329001   0.351795   0.355850   \n",
       "decoding_time   0.145373   0.149436   0.153600   0.160495   0.166311   \n",
       "\n",
       "                      10         11         12         13        14  \\\n",
       "psnr           39.491736  41.292638  43.018577  46.225878       inf   \n",
       "ms-ssim         0.985939   0.990412   0.993433   0.997198  0.999999   \n",
       "bpp             0.738271   0.749831   0.774988   0.806432  0.829433   \n",
       "encoding_time   0.327504   0.344542   0.350562   0.362998  0.360625   \n",
       "decoding_time   0.145613   0.153275   0.158650   0.171187  0.160829   \n",
       "\n",
       "                      15         16         17         18  \n",
       "psnr           47.387928  48.827614  50.571082  54.206662  \n",
       "ms-ssim         0.997905   0.998707   0.999215   0.999704  \n",
       "bpp             0.875817   1.064493   1.173561   1.548504  \n",
       "encoding_time   0.357106   0.352720   0.329110   0.332860  \n",
       "decoding_time   0.164674   0.166458   0.151724   0.164918  "
      ]
     },
     "execution_count": 40,
     "metadata": {},
     "output_type": "execute_result"
    }
   ],
   "source": [
    "import pandas as pd\n",
    "my_df = pd.DataFrame.from_dict(data['results'], orient='index')\n",
    "my_df"
   ]
  },
  {
   "cell_type": "code",
   "execution_count": 43,
   "metadata": {},
   "outputs": [
    {
     "data": {
      "text/plain": [
       "[<matplotlib.lines.Line2D at 0x7f668d46cef0>]"
      ]
     },
     "execution_count": 43,
     "metadata": {},
     "output_type": "execute_result"
    },
    {
     "data": {
      "image/png": "[encoded data removed]",
      "text/plain": [
       "<Figure size 432x288 with 1 Axes>"
      ]
     },
     "metadata": {},
     "output_type": "display_data"
    }
   ],
   "source": []
  },
  {
   "cell_type": "code",
   "execution_count": 48,
   "metadata": {},
   "outputs": [],
   "source": [
    "# import os\n",
    "# data_root = \"/home/chengbin/shengqiangcode/data/Image_compress_old\"\n",
    "# index = 0\n",
    "# test_list = []\n",
    "# for index in range(7):\n",
    "#     path = os.path.join(data_root,\"20\",\"20-\"+str(index))\n",
    "#     jpeg_path = os.path.join(data_root,\"20jpeg\",\"20-\"+str(index))\n",
    "    \n",
    "#     base_list = [os.path.splitext(filename)[0] for filename in os.listdir(path)]\n",
    "#     file_list = [os.path.join(jpeg_path,base_name+\".jpg\") for base_name in base_list]\n",
    "    \n",
    "#     test_list = test_list + file_list\n",
    "    \n",
    "# test_list = sorted(test_list)\n",
    "\n",
    "# import numpy as np\n",
    "# save_path = os.path.join(data_root,\"20_test_list.txt\")\n",
    "# np.savetxt(save_path,test_list,fmt='%s')\n",
    "\n",
    "# train_list = []\n",
    "# for index in range(7):\n",
    "#     jpeg_path = os.path.join(data_root,\"20jpeg\",\"20-\"+str(index))\n",
    "#     file_list = os.listdir(jpeg_path)\n",
    "#     all_list = [os.path.join(jpeg_path,file) for file in file_list]\n",
    "#     tmp_list = [file for file in all_list if file not in test_list]\n",
    "#     train_list = train_list + tmp_list\n",
    "\n",
    "# train_list = [file for file in train_list if file.lower().endswith(\"jpg\")]\n",
    "# train_list = sorted(train_list)\n",
    "# save_path = os.path.join(data_root,\"20_train_list.txt\")\n",
    "# np.savetxt(save_path,train_list,fmt='%s')\n"
   ]
  },
  {
   "cell_type": "code",
   "execution_count": 42,
   "metadata": {},
   "outputs": [],
   "source": [
    "# import os\n",
    "# data_root = \"/home/chengbin/shengqiangcode/data/Image_compress_old\"\n",
    "# index = 0\n",
    "# test_list = []\n",
    "# for index in range(7):\n",
    "#     path = os.path.join(data_root,\"40\",\"40-\"+str(index))\n",
    "#     jpeg_path = os.path.join(data_root,\"40jpeg\",\"40-\"+str(index))\n",
    "    \n",
    "#     base_list = [os.path.splitext(filename)[0] for filename in os.listdir(path)]\n",
    "#     file_list = [os.path.join(jpeg_path,base_name+\".jpg\") for base_name in base_list]\n",
    "    \n",
    "#     test_list = test_list + file_list\n",
    "    \n",
    "# test_list = sorted(test_list)\n",
    "\n",
    "# import numpy as np\n",
    "# save_path = os.path.join(data_root,\"40_test_list.txt\")\n",
    "# np.savetxt(save_path,test_list,fmt='%s')\n",
    "\n",
    "# train_list = []\n",
    "# for index in range(7):\n",
    "#     jpeg_path = os.path.join(data_root,\"40jpeg\",\"40-\"+str(index))\n",
    "#     file_list = os.listdir(jpeg_path)\n",
    "#     all_list = [os.path.join(jpeg_path,file) for file in file_list]\n",
    "#     tmp_list = [file for file in all_list if file not in test_list]\n",
    "#     train_list = train_list + tmp_list\n",
    "\n",
    "# train_list = [file for file in train_list if file.lower().endswith(\"jpg\")]\n",
    "# train_list = sorted(train_list)\n",
    "# save_path = os.path.join(data_root,\"40_train_list.txt\")\n",
    "# np.savetxt(save_path,train_list,fmt='%s')\n"
   ]
  },
  {
   "cell_type": "code",
   "execution_count": 101,
   "metadata": {},
   "outputs": [],
   "source": [
    "import numpy as np\n",
    "test_path = \"/home/chengbin/shengqiangcode/data/Image_compress_old/20_test_list.txt\"\n",
    "test_list = np.genfromtxt(test_path, dtype=np.str, encoding='utf-8')"
   ]
  },
  {
   "cell_type": "code",
   "execution_count": 102,
   "metadata": {},
   "outputs": [],
   "source": [
    "from compressai.utils.bench.codecs import *"
   ]
  },
  {
   "cell_type": "code",
   "execution_count": 10,
   "metadata": {},
   "outputs": [
    {
     "name": "stderr",
     "output_type": "stream",
     "text": [
      "  0%|          | 0/124 [00:00<?, ?it/s]"
     ]
    },
    {
     "name": "stdout",
     "output_type": "stream",
     "text": [
      "quality:5\n"
     ]
    },
    {
     "name": "stderr",
     "output_type": "stream",
     "text": [
      "  0%|          | 0/124 [00:03<?, ?it/s]\n",
      "  0%|          | 0/124 [00:00<?, ?it/s]"
     ]
    },
    {
     "name": "stdout",
     "output_type": "stream",
     "text": [
      "quality:25\n"
     ]
    },
    {
     "name": "stderr",
     "output_type": "stream",
     "text": [
      "  0%|          | 0/124 [00:03<?, ?it/s]\n",
      "  0%|          | 0/124 [00:00<?, ?it/s]"
     ]
    },
    {
     "name": "stdout",
     "output_type": "stream",
     "text": [
      "quality:45\n"
     ]
    },
    {
     "name": "stderr",
     "output_type": "stream",
     "text": [
      "  0%|          | 0/124 [00:02<?, ?it/s]\n",
      "  0%|          | 0/124 [00:00<?, ?it/s]"
     ]
    },
    {
     "name": "stdout",
     "output_type": "stream",
     "text": [
      "quality:65\n"
     ]
    },
    {
     "name": "stderr",
     "output_type": "stream",
     "text": [
      "  0%|          | 0/124 [00:03<?, ?it/s]\n",
      "  0%|          | 0/124 [00:00<?, ?it/s]"
     ]
    },
    {
     "name": "stdout",
     "output_type": "stream",
     "text": [
      "quality:85\n"
     ]
    },
    {
     "name": "stderr",
     "output_type": "stream",
     "text": [
      "  0%|          | 0/124 [00:03<?, ?it/s]\n"
     ]
    }
   ],
   "source": [
    "import cv2\n",
    "from tqdm import tqdm \n",
    "\n",
    "result_dir = \"result_20\"\n",
    "\n",
    "jpegcode = JPEG(None)\n",
    "all_result = dict()\n",
    "for qu in range(5,100,20):\n",
    "    print(\"quality:%d\"%qu)\n",
    "    bpplist = []\n",
    "    psnrlist = []\n",
    "    for i in tqdm(range(len(test_list))):\n",
    "        img = jpegcode._load_img(test_list[i])\n",
    "        result = jpegcode._run(img,qu,False)\n",
    "        bpplist.append(result[\"bpp\"])\n",
    "        psnrlist.append(result[\"psnr\"])\n",
    "        break\n",
    "        result_dict = {\n",
    "        str(qu): (bpplist,psnrlist)\n",
    "    }\n",
    "    \n",
    "    with open(os.path.join(result_dir,'jpeg_q_%d.json'%qu), 'w') as json_file:\n",
    "        json_str = json.dumps(result_dict,ensure_ascii=False,indent=1)\n",
    "        json_file.write(json_str)\n",
    "    all_result[str(qu)] = (bpplist,psnrlist)\n",
    "\n",
    "\n",
    "    "
   ]
  },
  {
   "cell_type": "code",
   "execution_count": 8,
   "metadata": {},
   "outputs": [
    {
     "name": "stdout",
     "output_type": "stream",
     "text": [
      "quality:5\n",
      "quality:10"
     ]
    },
    {
     "name": "stderr",
     "output_type": "stream",
     "text": [
      "  0%|          | 0/124 [00:00<?, ?it/s]"
     ]
    },
    {
     "name": "stdout",
     "output_type": "stream",
     "text": [
      "\n"
     ]
    },
    {
     "name": "stderr",
     "output_type": "stream",
     "text": [
      "  0%|          | 0/124 [00:00<?, ?it/s]"
     ]
    },
    {
     "name": "stdout",
     "output_type": "stream",
     "text": [
      "quality:15\n",
      "quality:20\n"
     ]
    },
    {
     "name": "stderr",
     "output_type": "stream",
     "text": [
      "  0%|          | 0/124 [00:00<?, ?it/s]"
     ]
    },
    {
     "name": "stdout",
     "output_type": "stream",
     "text": [
      "quality:25"
     ]
    },
    {
     "name": "stderr",
     "output_type": "stream",
     "text": [
      "  0%|          | 0/124 [00:00<?, ?it/s]"
     ]
    },
    {
     "name": "stdout",
     "output_type": "stream",
     "text": [
      "\n",
      "quality:30\n"
     ]
    },
    {
     "name": "stderr",
     "output_type": "stream",
     "text": [
      "  0%|          | 0/124 [00:00<?, ?it/s]"
     ]
    },
    {
     "name": "stdout",
     "output_type": "stream",
     "text": [
      "quality:35\n"
     ]
    },
    {
     "name": "stderr",
     "output_type": "stream",
     "text": [
      "  0%|          | 0/124 [00:00<?, ?it/s]"
     ]
    },
    {
     "name": "stdout",
     "output_type": "stream",
     "text": [
      "quality:40\n"
     ]
    },
    {
     "name": "stderr",
     "output_type": "stream",
     "text": [
      "  0%|          | 0/124 [00:00<?, ?it/s]"
     ]
    },
    {
     "name": "stdout",
     "output_type": "stream",
     "text": [
      "quality:45\n"
     ]
    },
    {
     "name": "stderr",
     "output_type": "stream",
     "text": [
      "  0%|          | 0/124 [00:00<?, ?it/s]"
     ]
    },
    {
     "name": "stdout",
     "output_type": "stream",
     "text": [
      "quality:50\n"
     ]
    },
    {
     "name": "stderr",
     "output_type": "stream",
     "text": [
      "  0%|          | 0/124 [00:00<?, ?it/s]"
     ]
    },
    {
     "name": "stdout",
     "output_type": "stream",
     "text": [
      "quality:55quality:60"
     ]
    },
    {
     "name": "stderr",
     "output_type": "stream",
     "text": [
      "  0%|          | 0/124 [00:00<?, ?it/s]"
     ]
    },
    {
     "name": "stdout",
     "output_type": "stream",
     "text": [
      "\n",
      "\n"
     ]
    },
    {
     "name": "stderr",
     "output_type": "stream",
     "text": [
      "  0%|          | 0/124 [00:00<?, ?it/s]"
     ]
    },
    {
     "name": "stdout",
     "output_type": "stream",
     "text": [
      "quality:65\n"
     ]
    },
    {
     "name": "stderr",
     "output_type": "stream",
     "text": [
      "  0%|          | 0/124 [00:00<?, ?it/s]"
     ]
    },
    {
     "name": "stdout",
     "output_type": "stream",
     "text": [
      "quality:70\n"
     ]
    },
    {
     "name": "stderr",
     "output_type": "stream",
     "text": [
      "  0%|          | 0/124 [00:00<?, ?it/s]"
     ]
    },
    {
     "name": "stdout",
     "output_type": "stream",
     "text": [
      "quality:75\n",
      "quality:80\n"
     ]
    },
    {
     "name": "stderr",
     "output_type": "stream",
     "text": [
      "  0%|          | 0/124 [00:00<?, ?it/s]"
     ]
    },
    {
     "name": "stdout",
     "output_type": "stream",
     "text": [
      "quality:85\n"
     ]
    },
    {
     "name": "stderr",
     "output_type": "stream",
     "text": [
      "  0%|          | 0/124 [00:00<?, ?it/s]"
     ]
    },
    {
     "name": "stdout",
     "output_type": "stream",
     "text": [
      "quality:90"
     ]
    },
    {
     "name": "stderr",
     "output_type": "stream",
     "text": [
      "  0%|          | 0/124 [00:00<?, ?it/s]"
     ]
    },
    {
     "name": "stdout",
     "output_type": "stream",
     "text": [
      "\n",
      "quality:95"
     ]
    },
    {
     "name": "stderr",
     "output_type": "stream",
     "text": [
      "  0%|          | 0/124 [00:00<?, ?it/s]"
     ]
    },
    {
     "name": "stdout",
     "output_type": "stream",
     "text": [
      "\n"
     ]
    },
    {
     "name": "stderr",
     "output_type": "stream",
     "text": [
      "  0%|          | 0/124 [00:00<?, ?it/s]"
     ]
    },
    {
     "name": "stdout",
     "output_type": "stream",
     "text": [
      "finish all\n"
     ]
    }
   ],
   "source": [
    "from multiprocessing import  Process\n",
    "from compressai.utils.bench.codecs import *\n",
    "import cv2\n",
    "from tqdm import tqdm \n",
    "import json\n",
    "\n",
    "import numpy as np\n",
    "test_path = \"/home/chengbin/shengqiangcode/data/Image_compress_old/20_test_list.txt\"\n",
    "test_list = np.genfromtxt(test_path, dtype=np.str, encoding='utf-8')\n",
    "result_dir = \"result_20\"\n",
    "jpegcode = JPEG(None)\n",
    "\n",
    "def compute_jpeg(test_list,qu,result_dir):\n",
    "    print(\"quality:%d\"%qu)\n",
    "    bpplist = []\n",
    "    psnrlist = []\n",
    "    for i in tqdm(range(len(test_list))):\n",
    "        img = jpegcode._load_img(test_list[i])\n",
    "        result = jpegcode._run(img,qu,False)\n",
    "        bpplist.append(result[\"bpp\"])\n",
    "        psnrlist.append(result[\"psnr\"])\n",
    "    \n",
    "    result_dict = {\n",
    "        str(qu): (bpplist,psnrlist)\n",
    "    }\n",
    "    \n",
    "    with open(os.path.join(result_dir,'jpeg_q_%d.json'%qu), 'w') as json_file:\n",
    "        json_str = json.dumps(result_dict,ensure_ascii=False,indent=1)\n",
    "        json_file.write(json_str)\n",
    "\n",
    "# compute_jpeg(test_list,5,result_dir)\n",
    "# process_list = []\n",
    "# for i in range(5,100,20):  #开启5个子进程执行fun1函数\n",
    "#     p = Process(target=compute_jpeg,args=(test_list,i,result_dir)) #实例化进程对象\n",
    "#     p.start()\n",
    "#     process_list.append(p)\n",
    "\n",
    "# for i in process_list:\n",
    "#     p.join()\n",
    "\n",
    "# print(\"finish all\")"
   ]
  },
  {
   "cell_type": "code",
   "execution_count": 92,
   "metadata": {},
   "outputs": [
    {
     "data": {
      "text/plain": [
       "{'psnr': 28.304847769942064,\n",
       " 'ms-ssim': 0.8120803833007812,\n",
       " 'bpp': 0.14392807904411764,\n",
       " 'encoding_time': 0.12026357650756836,\n",
       " 'decoding_time': 0.04685401916503906}"
      ]
     },
     "execution_count": 92,
     "metadata": {},
     "output_type": "execute_result"
    }
   ],
   "source": [
    "result"
   ]
  },
  {
   "cell_type": "code",
   "execution_count": 96,
   "metadata": {},
   "outputs": [
    {
     "name": "stdout",
     "output_type": "stream",
     "text": [
      "5\n",
      "10\n",
      "15\n",
      "20\n",
      "25\n",
      "30\n",
      "35\n",
      "40\n",
      "45\n",
      "50\n",
      "55\n",
      "60\n",
      "65\n",
      "70\n",
      "75\n",
      "80\n",
      "85\n",
      "90\n",
      "95\n"
     ]
    }
   ],
   "source": [
    "for i in range(5,100,5):\n",
    "    print(i)"
   ]
  },
  {
   "cell_type": "code",
   "execution_count": null,
   "metadata": {},
   "outputs": [],
   "source": []
  }
 ],
 "metadata": {
  "kernelspec": {
   "display_name": "Python [conda env:compress] *",
   "language": "python",
   "name": "conda-env-compress-py"
  },
  "language_info": {
   "codemirror_mode": {
    "name": "ipython",
    "version": 3
   },
   "file_extension": ".py",
   "mimetype": "text/x-python",
   "name": "python",
   "nbconvert_exporter": "python",
   "pygments_lexer": "ipython3",
   "version": "3.6.12"
  }
 },
 "nbformat": 4,
 "nbformat_minor": 4
}
